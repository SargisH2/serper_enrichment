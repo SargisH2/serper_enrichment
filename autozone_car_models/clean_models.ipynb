{
 "cells": [
  {
   "cell_type": "code",
   "execution_count": 1,
   "metadata": {},
   "outputs": [],
   "source": [
    "import json\n",
    "from bs4 import BeautifulSoup\n",
    "\n",
    "with open('page.html', 'r', encoding='utf-8') as file:\n",
    "    html_content = file.read()\n"
   ]
  },
  {
   "cell_type": "code",
   "execution_count": 2,
   "metadata": {},
   "outputs": [],
   "source": [
    "\n",
    "soup = BeautifulSoup(html_content, 'html.parser')\n",
    "\n",
    "divs = soup.find_all('div', class_='az_rzb')\n"
   ]
  },
  {
   "cell_type": "code",
   "execution_count": 3,
   "metadata": {},
   "outputs": [
    {
     "data": {
      "text/plain": [
       "185"
      ]
     },
     "execution_count": 3,
     "metadata": {},
     "output_type": "execute_result"
    }
   ],
   "source": [
    "len(divs)"
   ]
  },
  {
   "cell_type": "code",
   "execution_count": 6,
   "metadata": {},
   "outputs": [
    {
     "name": "stdout",
     "output_type": "stream",
     "text": [
      "Data has been successfully extracted and saved to output.json\n"
     ]
    }
   ],
   "source": [
    "data = {}\n",
    "for div in divs:\n",
    "    h2 = div.find('h2', class_='az_-G az_ozb')\n",
    "    if h2:\n",
    "        key = h2.text.strip()\n",
    "        lis = div.find_all('li', class_='az_ca az_lzb')\n",
    "        values = [li.text.replace('Parts', '').strip() for li in lis]\n",
    "        data[key] = values\n",
    "        \n",
    "with open('autozone_cars_list.json', 'w', encoding='utf-8') as json_file:\n",
    "    json.dump(data, json_file, ensure_ascii=False, indent=4)\n",
    "\n",
    "print(\"Data has been successfully extracted and saved to output.json\")\n"
   ]
  }
 ],
 "metadata": {
  "kernelspec": {
   "display_name": "Python 3",
   "language": "python",
   "name": "python3"
  },
  "language_info": {
   "codemirror_mode": {
    "name": "ipython",
    "version": 3
   },
   "file_extension": ".py",
   "mimetype": "text/x-python",
   "name": "python",
   "nbconvert_exporter": "python",
   "pygments_lexer": "ipython3",
   "version": "3.10.10"
  }
 },
 "nbformat": 4,
 "nbformat_minor": 2
}
